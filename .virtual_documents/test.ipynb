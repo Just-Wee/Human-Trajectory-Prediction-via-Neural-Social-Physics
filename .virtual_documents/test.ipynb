import os
import torch


path_train = 'data/SDD/train_pickle/'
scenes_train = os.listdir(path_train)


scenes_train


import pickle

datapath = path_train + scenes_train[1]
with open(datapath, 'rb') as f:
    data = pickle.load(f)
    
type(data)


data[0].shape


data[1].shape


data[1][0][0]


len(data)


data[1][0].shape


data[2]
