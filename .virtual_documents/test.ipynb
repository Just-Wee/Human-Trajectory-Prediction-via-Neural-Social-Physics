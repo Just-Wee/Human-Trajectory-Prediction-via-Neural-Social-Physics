import pickle

load_path = '/home/liuhaijing/Human-Trajectory-Prediction-via-Neural-Social-Physics/data/SDD/none_pickle_new/coupavideo2.pickle'
with open(load_path, 'rb') as fp:
    data = pickle.load(fp)


traj_complete, supplement, first_part = data[0], data[1], data[2]


traj_complete.shape


supplement.shape


supplement[0, 0, 0, :]


first_part[0]


import numpy as np

np.array_equal(traj_complete[1, :, :], supplement[0, :, 0, :4])


len(first_part)


t_dic = {1: set([1, 2])}


1 in t_dic


def get_same_time_ped_idx(first_part):
    """获取处于同一时间段的全程出现的行人在 traj_complete 中的索引"""
    ped_sets = []
    pid_to_set = {}
    for p_id in range(len(first_part)):
        if p_id not in pid_to_set:
            cur_time_set = set()
            cur_time_set.add(p_id)
            cur_time_set.update(first_part[p_id])
            for t_pid in cur_time_set:
                pid_to_set[t_pid] = cur_time_set
            ped_sets.append(cur_time_set)
    return pid_to_set, ped_sets

pid_to_set, ped_set = get_same_time_ped_idx(first_part)
print(len(ped_set))


ped_set[3]


import random

import cv2
import os

import numpy as np
import matplotlib.pyplot as plt

from PIL import Image


mask_path = '/home/liuhaijing/Human-Trajectory-Prediction-via-Neural-Social-Physics/data/SDD/train_masks/'
mask_name = os.listdir(mask_path)
mask = cv2.imread(mask_path + mask_name[12])
mask_num = set(mask[:, :, 0].flatten())
# mask_num
mask_rgb = [
    (random.randint(0, 256), random.randint(0, 256), random.randint(0, 256)) 
    for _ in range(len(mask_num))
]
mask_show = np.zeros_like(mask)
for i, n in enumerate(mask_num):
    mask_show[mask[:, :, 0] == n] = mask_rgb[i]
    
plt.imshow(mask_show)


cv2.imshow(mask_show)


mask_show_pil = Image.fromarray(mask_show)
# mask_show_pil





set([1, 2, 3] + [0])


import numpy as np
import pickle
import os


def count(scenes_names, src_path):
    omega = np.pi / 3
    cos_omega = np.cos(omega)
    r_col = 50

    all_train_col_cnt = 0
    all_train_ped_cnt = 0
    all_train_nb_cnt = 0
    all_train_series_cnt = 0

    for scene in scenes_names:
        load_path = src_path + scene
        with open(load_path, 'rb') as f:
            data = pickle.load(f)
        traj_complete, supplement, first_part = data[0], data[1], data[2]
        if traj_complete[0] == 'empty':
            print('%s: empty' % scene)
            continue

        all_train_ped_cnt += len(traj_complete)
        all_col_cnt = 0
        cur_nb_set = set(first_part[0] + [0])
        all_nb_cnt = int(supplement[0, 0, -1, 1])
        all_series_cnt = 1
        for p_id in range(len(traj_complete)):
            all_nb_num, nb_num = supplement[p_id, 0, -1, :2]
            all_nb_num, nb_num = int(all_nb_num), int(nb_num)
            no_all_num_num = nb_num - all_nb_num

            if p_id not in cur_nb_set:
                cur_nb_set = set(first_part[p_id] + [p_id])
                all_nb_cnt += nb_num
                all_series_cnt += 1

            traj, vel = traj_complete[p_id, :, :2], traj_complete[p_id, :, 2:4]

            r_ped = supplement[p_id, :, :int(nb_num), :2] \
                    - traj[:, None, :]

            dis_ped = np.linalg.norm(r_ped, axis=2)
            v_norm = np.linalg.norm(vel, axis=1)
            cos_ped = np.sum(r_ped * vel[:, None, :], axis=2) \
                      / (dis_ped * v_norm[:, None])

            col_cnt = np.sum((cos_ped < 0.5) & (dis_ped < r_col))
            all_col_cnt += col_cnt

        all_train_nb_cnt += all_nb_cnt
        all_train_series_cnt += all_series_cnt
        print('%s: col_num-%d, nb-num-%.2f' % (scene, all_col_cnt, (all_nb_cnt/all_series_cnt)))
        all_train_col_cnt += all_col_cnt
        # break

    print('all - ped_num: %d, col_num: %d, avg_col: %.2f, nb_num: %.2f' % 
          (all_train_ped_cnt, all_train_col_cnt, all_train_col_cnt/all_train_ped_cnt,
           all_train_nb_cnt/all_train_series_cnt))
    
data_path = './data/SDD/'
train_pickle = data_path + 'train_pickle_new/'
train_scenes = os.listdir(train_pickle)
test_pickle = data_path + 'test_pickle_new/'
test_scenes = os.listdir(test_pickle)

count(train_scenes, train_pickle)
print('\n' + '=' * 50 + '\n')
count(test_scenes, test_pickle)


load_path = train_pickle + train_scenes[8]
with open(load_path, 'rb') as f:
    data = pickle.load(f)
traj_complete, supplement, first_part = data[0], data[1], data[2]
np.mean(np.linalg.norm(np.diff(traj_complete[:, :, :2], axis=1), axis=2).flatten())





import matplotlib.pyplot as plt

def show_traj(traj, supp, all_num):
    plt.plot(traj[:, 0], traj[:, 1], '.-', color='r')
    plt.plot(traj[-1, 0], traj[-1, 1], 'o', color='r')
    for n_id in range(all_num):
        plt.plot(supp[:, n_id, 0], supp[:, n_id, 1], '.-', color='g')
        plt.plot(supp[-1, n_id, 0], supp[-1, n_id, 1], 'o-', color='g')

show_traj(traj_complete[0], supplement[0], 5)
