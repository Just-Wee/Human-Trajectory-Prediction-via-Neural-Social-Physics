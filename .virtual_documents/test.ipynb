import pickle

load_path = '/home/liuhaijing/Human-Trajectory-Prediction-via-Neural-Social-Physics/data/SDD/none_pickle_new/coupavideo2.pickle'
with open(load_path, 'rb') as fp:
    data = pickle.load(fp)


traj_complete, supplement, first_part = data[0], data[1], data[2]


traj_complete.shape


supplement.shape


supplement[0, 0, 0, :]


first_part[0]


import numpy as np

np.array_equal(traj_complete[1, :, :], supplement[0, :, 0, :4])


len(first_part)


t_dic = {1: set([1, 2])}


1 in t_dic


def get_same_time_ped_idx(first_part):
    """获取处于同一时间段的全程出现的行人在 traj_complete 中的索引"""
    ped_sets = []
    pid_to_set = {}
    for p_id in range(len(first_part)):
        if p_id not in pid_to_set:
            cur_time_set = set()
            cur_time_set.add(p_id)
            cur_time_set.update(first_part[p_id])
            for t_pid in cur_time_set:
                pid_to_set[t_pid] = cur_time_set
            ped_sets.append(cur_time_set)
    return pid_to_set, ped_sets

pid_to_set, ped_set = get_same_time_ped_idx(first_part)
print(len(ped_set))


ped_set[3]
