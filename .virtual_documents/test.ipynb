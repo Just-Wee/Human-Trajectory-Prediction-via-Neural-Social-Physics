import pickle


goal_path = '/home/liuhaijing/Human-Trajectory-Prediction-via-Neural-Social-Physics/data/SDD/goals_Ynet.pickle'
with open(goal_path, 'rb') as fp:
    goal_data = pickle.load(fp)


type(goal_data)


len(goal_data)


type(goal_data[0])


len(goal_data[0])


type(goal_data[0][0])


goal_data[0][0].shape


goal_data[0][0][0, :]


for i in range(len(goal_data[0])):
    print(goal_data[0][i].shape)


goal_data[1][0][:, 0, :]


for i in range(len(goal_data[1])):
    print(goal_data[1][i].shape)


for i in range(len(goal_data[2])):
    print(goal_data[2][i].shape)


goal_data[2]


len(goal_data[2])


len(goal_data[1])
