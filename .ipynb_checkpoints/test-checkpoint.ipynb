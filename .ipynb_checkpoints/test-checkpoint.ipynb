{
 "cells": [
  {
   "cell_type": "code",
   "execution_count": 1,
   "id": "5ba1eeba-8ab6-49fa-9634-99f8a73d1901",
   "metadata": {
    "tags": []
   },
   "outputs": [],
   "source": [
    "import pickle\n",
    "\n",
    "load_path = '/home/liuhaijing/Human-Trajectory-Prediction-via-Neural-Social-Physics/data/SDD/none_pickle_new/coupavideo2.pickle'\n",
    "with open(load_path, 'rb') as fp:\n",
    "    data = pickle.load(fp)"
   ]
  },
  {
   "cell_type": "code",
   "execution_count": 2,
   "id": "9cc7b556-b86e-4f5c-83fa-b7edcacb7a23",
   "metadata": {
    "tags": []
   },
   "outputs": [],
   "source": [
    "traj_complete, supplement, first_part = data[0], data[1], data[2]"
   ]
  },
  {
   "cell_type": "code",
   "execution_count": 3,
   "id": "668e0fbd-9d12-4c9d-a6cf-3b0b894efcc7",
   "metadata": {
    "tags": []
   },
   "outputs": [
    {
     "data": {
      "text/plain": [
       "(168, 20, 4)"
      ]
     },
     "execution_count": 3,
     "metadata": {},
     "output_type": "execute_result"
    }
   ],
   "source": [
    "traj_complete.shape"
   ]
  },
  {
   "cell_type": "code",
   "execution_count": 5,
   "id": "271e6d36-1cc1-4024-bf96-5ebbebf80466",
   "metadata": {},
   "outputs": [
    {
     "data": {
      "text/plain": [
       "(168, 20, 121, 5)"
      ]
     },
     "execution_count": 5,
     "metadata": {},
     "output_type": "execute_result"
    }
   ],
   "source": [
    "supplement.shape"
   ]
  },
  {
   "cell_type": "code",
   "execution_count": 6,
   "id": "9a260a60-9c1d-4ae6-923a-25d5236fdfb4",
   "metadata": {
    "tags": []
   },
   "outputs": [
    {
     "data": {
      "text/plain": [
       "array([1.0515e+03, 2.4900e+02, 0.0000e+00, 0.0000e+00, 1.0000e+00])"
      ]
     },
     "execution_count": 6,
     "metadata": {},
     "output_type": "execute_result"
    }
   ],
   "source": [
    "supplement[0, 0, 0, :]"
   ]
  },
  {
   "cell_type": "code",
   "execution_count": 7,
   "id": "90f22cd4-44f8-45c3-aaa3-3151a2bcdd24",
   "metadata": {
    "tags": []
   },
   "outputs": [
    {
     "data": {
      "text/plain": [
       "[1]"
      ]
     },
     "execution_count": 7,
     "metadata": {},
     "output_type": "execute_result"
    }
   ],
   "source": [
    "first_part[0]"
   ]
  },
  {
   "cell_type": "code",
   "execution_count": 11,
   "id": "e46ac852-3a8f-41d2-8916-26507c48f892",
   "metadata": {
    "tags": []
   },
   "outputs": [
    {
     "data": {
      "text/plain": [
       "True"
      ]
     },
     "execution_count": 11,
     "metadata": {},
     "output_type": "execute_result"
    }
   ],
   "source": [
    "import numpy as np\n",
    "\n",
    "np.array_equal(traj_complete[1, :, :], supplement[0, :, 0, :4])"
   ]
  },
  {
   "cell_type": "code",
   "execution_count": 12,
   "id": "25c5c363-f5b4-4f89-8b98-d2b157106de7",
   "metadata": {
    "tags": []
   },
   "outputs": [
    {
     "data": {
      "text/plain": [
       "168"
      ]
     },
     "execution_count": 12,
     "metadata": {},
     "output_type": "execute_result"
    }
   ],
   "source": [
    "len(first_part)"
   ]
  },
  {
   "cell_type": "code",
   "execution_count": 13,
   "id": "ae1fe4fa-bfbe-441b-88fb-a45ac22422dd",
   "metadata": {
    "tags": []
   },
   "outputs": [],
   "source": [
    "t_dic = {1: set([1, 2])}"
   ]
  },
  {
   "cell_type": "code",
   "execution_count": 14,
   "id": "eec28aa2-2120-40ed-9a0c-37f584e07a4e",
   "metadata": {
    "tags": []
   },
   "outputs": [
    {
     "data": {
      "text/plain": [
       "True"
      ]
     },
     "execution_count": 14,
     "metadata": {},
     "output_type": "execute_result"
    }
   ],
   "source": [
    "1 in t_dic"
   ]
  },
  {
   "cell_type": "code",
   "execution_count": 16,
   "id": "38065625-2c69-40e8-9e3b-b7522bac25d0",
   "metadata": {
    "tags": []
   },
   "outputs": [
    {
     "name": "stdout",
     "output_type": "stream",
     "text": [
      "34\n"
     ]
    }
   ],
   "source": [
    "def get_same_time_ped_idx(first_part):\n",
    "    \"\"\"获取处于同一时间段的全程出现的行人在 traj_complete 中的索引\"\"\"\n",
    "    ped_sets = []\n",
    "    pid_to_set = {}\n",
    "    for p_id in range(len(first_part)):\n",
    "        if p_id not in pid_to_set:\n",
    "            cur_time_set = set()\n",
    "            cur_time_set.add(p_id)\n",
    "            cur_time_set.update(first_part[p_id])\n",
    "            for t_pid in cur_time_set:\n",
    "                pid_to_set[t_pid] = cur_time_set\n",
    "            ped_sets.append(cur_time_set)\n",
    "    return pid_to_set, ped_sets\n",
    "\n",
    "pid_to_set, ped_set = get_same_time_ped_idx(first_part)\n",
    "print(len(ped_set))"
   ]
  },
  {
   "cell_type": "code",
   "execution_count": 20,
   "id": "29e20176-ee62-41d7-9fb5-ba29b2aa03da",
   "metadata": {
    "tags": []
   },
   "outputs": [
    {
     "data": {
      "text/plain": [
       "{8, 9, 10, 11, 12, 13}"
      ]
     },
     "execution_count": 20,
     "metadata": {},
     "output_type": "execute_result"
    }
   ],
   "source": [
    "ped_set[3]"
   ]
  },
  {
   "cell_type": "code",
   "execution_count": 15,
   "id": "fd6ca067-40a3-41d0-accb-0681010e86c9",
   "metadata": {
    "tags": []
   },
   "outputs": [],
   "source": [
    "import random\n",
    "\n",
    "import cv2\n",
    "import os\n",
    "\n",
    "import numpy as np\n",
    "import matplotlib.pyplot as plt\n",
    "\n",
    "from PIL import Image"
   ]
  },
  {
   "cell_type": "code",
   "execution_count": 57,
   "id": "4e176b54-5981-49fe-8b2e-37a51c1b3faa",
   "metadata": {
    "tags": []
   },
   "outputs": [
    {
     "data": {
      "text/plain": [
       "<matplotlib.image.AxesImage at 0x7f64b6c0cc10>"
      ]
     },
     "execution_count": 57,
     "metadata": {},
     "output_type": "execute_result"
    },
    {
     "data": {
      "image/png": "[encoded data removed]",
      "text/plain": [
       "<Figure size 640x480 with 1 Axes>"
      ]
     },
     "metadata": {},
     "output_type": "display_data"
    }
   ],
   "source": [
    "mask_path = '/home/liuhaijing/Human-Trajectory-Prediction-via-Neural-Social-Physics/data/SDD/train_masks/'\n",
    "mask_name = os.listdir(mask_path)\n",
    "mask = cv2.imread(mask_path + mask_name[12])\n",
    "mask_num = set(mask[:, :, 0].flatten())\n",
    "# mask_num\n",
    "mask_rgb = [\n",
    "    (random.randint(0, 256), random.randint(0, 256), random.randint(0, 256)) \n",
    "    for _ in range(len(mask_num))\n",
    "]\n",
    "mask_show = np.zeros_like(mask)\n",
    "for i, n in enumerate(mask_num):\n",
    "    mask_show[mask[:, :, 0] == n] = mask_rgb[i]\n",
    "    \n",
    "plt.imshow(mask_show)"
   ]
  },
  {
   "cell_type": "code",
   "execution_count": 58,
   "id": "59c6a78c-428b-408d-9d3b-563b7c3850f4",
   "metadata": {
    "tags": []
   },
   "outputs": [
    {
     "ename": "error",
     "evalue": "OpenCV(4.7.0) :-1: error: (-5:Bad argument) in function 'imshow'\n> Overload resolution failed:\n>  - imshow() missing required argument 'mat' (pos 2)\n>  - imshow() missing required argument 'mat' (pos 2)\n>  - imshow() missing required argument 'mat' (pos 2)\n",
     "output_type": "error",
     "traceback": [
      "\u001b[0;31m---------------------------------------------------------------------------\u001b[0m",
      "\u001b[0;31merror\u001b[0m                                     Traceback (most recent call last)",
      "Cell \u001b[0;32mIn[58], line 1\u001b[0m\n\u001b[0;32m----> 1\u001b[0m \u001b[43mcv2\u001b[49m\u001b[38;5;241;43m.\u001b[39;49m\u001b[43mimshow\u001b[49m\u001b[43m(\u001b[49m\u001b[43mmask_show\u001b[49m\u001b[43m)\u001b[49m\n",
      "\u001b[0;31merror\u001b[0m: OpenCV(4.7.0) :-1: error: (-5:Bad argument) in function 'imshow'\n> Overload resolution failed:\n>  - imshow() missing required argument 'mat' (pos 2)\n>  - imshow() missing required argument 'mat' (pos 2)\n>  - imshow() missing required argument 'mat' (pos 2)\n"
     ]
    }
   ],
   "source": [
    "cv2.imshow(mask_show)"
   ]
  },
  {
   "cell_type": "code",
   "execution_count": 1,
   "id": "a8bbb5f3-2a93-452a-a9c8-a13c23318a2a",
   "metadata": {
    "tags": []
   },
   "outputs": [
    {
     "ename": "NameError",
     "evalue": "name 'Image' is not defined",
     "output_type": "error",
     "traceback": [
      "\u001b[0;31m---------------------------------------------------------------------------\u001b[0m",
      "\u001b[0;31mNameError\u001b[0m                                 Traceback (most recent call last)",
      "Cell \u001b[0;32mIn[1], line 1\u001b[0m\n\u001b[0;32m----> 1\u001b[0m mask_show_pil \u001b[38;5;241m=\u001b[39m \u001b[43mImage\u001b[49m\u001b[38;5;241m.\u001b[39mfromarray(mask_show)\n\u001b[1;32m      2\u001b[0m \u001b[38;5;66;03m# mask_show_pil\u001b[39;00m\n",
      "\u001b[0;31mNameError\u001b[0m: name 'Image' is not defined"
     ]
    }
   ],
   "source": [
    "mask_show_pil = Image.fromarray(mask_show)\n",
    "# mask_show_pil"
   ]
  },
  {
   "cell_type": "markdown",
   "id": "a995428c-7dc0-4aec-9517-4dfeea93b7f8",
   "metadata": {},
   "source": [
    "---"
   ]
  },
  {
   "cell_type": "code",
   "execution_count": 14,
   "id": "7c51768c-5f17-4b30-bf78-f13d62262aff",
   "metadata": {
    "tags": []
   },
   "outputs": [],
   "source": [
    "import os\n",
    "\n",
    "data_path = './data/SDD/'\n",
    "train_pickle = data_path + 'train_pickle_new/'\n",
    "train_scenes = os.listdir(train_pickle)"
   ]
  },
  {
   "cell_type": "code",
   "execution_count": 33,
   "id": "435bad35-4894-4efd-ab92-2067548b4bb9",
   "metadata": {
    "tags": []
   },
   "outputs": [
    {
     "data": {
      "text/plain": [
       "{0, 1, 2, 3}"
      ]
     },
     "execution_count": 33,
     "metadata": {},
     "output_type": "execute_result"
    }
   ],
   "source": [
    "set([1, 2, 3] + [0])"
   ]
  },
  {
   "cell_type": "code",
   "execution_count": 53,
   "id": "c47f4364-647f-4fae-bbd1-6d502342d5fb",
   "metadata": {
    "tags": []
   },
   "outputs": [
    {
     "name": "stderr",
     "output_type": "stream",
     "text": [
      "/tmp/ipykernel_8970/633007477.py:18: FutureWarning: elementwise comparison failed; returning scalar instead, but in the future will perform elementwise comparison\n",
      "  if traj_complete[0] == 'empty':\n",
      "/tmp/ipykernel_8970/633007477.py:44: RuntimeWarning: invalid value encountered in divide\n",
      "  cos_ped = np.sum(r_ped * vel[:, None, :], axis=2) \\\n"
     ]
    },
    {
     "name": "stdout",
     "output_type": "stream",
     "text": [
      "gatesvideo5.pickle: col_num-67, nb-num-11.60\n",
      "bookstorevideo0.pickle: col_num-6170, nb-num-17.82\n",
      "nexusvideo7.pickle: col_num-4471, nb-num-8.31\n",
      "hyangvideo6.pickle: col_num-3323, nb-num-10.03\n",
      "deathCirclevideo1.pickle: col_num-4196, nb-num-33.88\n",
      "deathCirclevideo2.pickle: empty\n",
      "nexusvideo8.pickle: col_num-4913, nb-num-15.34\n",
      "hyangvideo4.pickle: col_num-17120, nb-num-43.14\n",
      "gatesvideo3.pickle: col_num-685, nb-num-20.73\n",
      "hyangvideo5.pickle: col_num-3907, nb-num-10.30\n",
      "hyangvideo9.pickle: empty\n",
      "nexusvideo4.pickle: col_num-791, nb-num-26.00\n",
      "gatesvideo7.pickle: col_num-37, nb-num-6.00\n",
      "deathCirclevideo0.pickle: col_num-14313, nb-num-31.89\n",
      "gatesvideo4.pickle: col_num-191, nb-num-17.60\n",
      "gatesvideo8.pickle: col_num-358, nb-num-18.38\n",
      "gatesvideo1.pickle: col_num-959, nb-num-15.13\n",
      "nexusvideo3.pickle: col_num-516, nb-num-22.00\n",
      "nexusvideo0.pickle: col_num-5306, nb-num-7.76\n",
      "hyangvideo7.pickle: col_num-512, nb-num-24.50\n",
      "bookstorevideo1.pickle: col_num-2896, nb-num-11.72\n",
      "nexusvideo1.pickle: col_num-5412, nb-num-11.82\n",
      "deathCirclevideo3.pickle: col_num-1364, nb-num-31.43\n",
      "coupavideo3.pickle: col_num-5108, nb-num-12.81\n",
      "bookstorevideo2.pickle: col_num-2202, nb-num-10.25\n",
      "gatesvideo0.pickle: col_num-179, nb-num-7.00\n",
      "gatesvideo6.pickle: col_num-15, nb-num-3.40\n",
      "bookstorevideo3.pickle: col_num-2519, nb-num-10.13\n",
      "nexusvideo9.pickle: col_num-1638, nb-num-10.05\n",
      "deathCirclevideo4.pickle: empty\n",
      "89168\n"
     ]
    }
   ],
   "source": [
    "import numpy as np\n",
    "import pickle\n",
    "\n",
    "omega = np.pi / 3\n",
    "cos_omega = np.cos(omega)\n",
    "r_col = 100\n",
    "\n",
    "all_train_col_cnt = 0\n",
    "all_train_ped_cnt = 0\n",
    "all_train_nb_cnt = 0\n",
    "all_train_series_cnt = 0\n",
    "\n",
    "for scene in train_scenes:\n",
    "    load_path = train_pickle + scene\n",
    "    with open(load_path, 'rb') as f:\n",
    "        data = pickle.load(f)\n",
    "    traj_complete, supplement, first_part = data[0], data[1], data[2]\n",
    "    if traj_complete[0] == 'empty':\n",
    "        print('%s: empty' % scene)\n",
    "        continue\n",
    "\n",
    "    all_train_ped_cnt += len(traj_complete)\n",
    "    all_col_cnt = 0\n",
    "    cur_nb_set = set(first_part[0] + [0])\n",
    "    all_nb_cnt = int(supplement[0, 0, -1, 1])\n",
    "    all_series_cnt = 1\n",
    "    for p_id in range(len(traj_complete)):\n",
    "        all_nb_num, nb_num = supplement[p_id, 0, -1, :2]\n",
    "        all_nb_num, nb_num = int(all_nb_num), int(nb_num)\n",
    "        no_all_num_num = nb_num - all_nb_num\n",
    "        \n",
    "        if p_id not in cur_nb_set:\n",
    "            cur_nb_set = set(first_part[p_id] + [p_id])\n",
    "            all_nb_cnt += nb_num\n",
    "            all_series_cnt += 1\n",
    "\n",
    "        traj, vel = traj_complete[p_id, :, :2], traj_complete[p_id, :, 2:4]\n",
    "\n",
    "        r_ped = supplement[p_id, :, :int(nb_num), :2] \\\n",
    "                - traj[:, None, :]\n",
    "\n",
    "        dis_ped = np.linalg.norm(r_ped, axis=2)\n",
    "        v_norm = np.linalg.norm(vel, axis=1)\n",
    "        cos_ped = np.sum(r_ped * vel[:, None, :], axis=2) \\\n",
    "                  / (dis_ped * v_norm[:, None])\n",
    "\n",
    "        col_cnt = np.sum((cos_ped < 0.5) & (dis_ped < r_col))\n",
    "        all_col_cnt += col_cnt\n",
    "    \n",
    "    all_train_nb_cnt += all_nb_cnt\n",
    "    all_train_series_cnt += all_series_cnt\n",
    "    print('%s: col_num-%d, nb-num-%.2f' % (scene, all_col_cnt, (all_nb_cnt/all_series_cnt)))\n",
    "    all_train_col_cnt += all_col_cnt\n",
    "    # break\n",
    "\n",
    "print('all: col_num-%d, nb_num-%.2f' % (all_train_col_cnt))"
   ]
  },
  {
   "cell_type": "code",
   "execution_count": 41,
   "id": "6d4729dc-77df-4333-9155-f473e3d026e3",
   "metadata": {
    "tags": []
   },
   "outputs": [
    {
     "data": {
      "text/plain": [
       "5"
      ]
     },
     "execution_count": 41,
     "metadata": {},
     "output_type": "execute_result"
    }
   ],
   "source": [
    "all_series_cnt"
   ]
  },
  {
   "cell_type": "code",
   "execution_count": 43,
   "id": "2dfc2020-c17d-4779-9c4c-7eb24be62af1",
   "metadata": {
    "tags": []
   },
   "outputs": [
    {
     "data": {
      "text/plain": [
       "array([ 8.,  8.,  8., 10., 10., 10., 10., 13., 13., 13., 14., 14., 14.,\n",
       "       14., 13., 13.])"
      ]
     },
     "execution_count": 43,
     "metadata": {},
     "output_type": "execute_result"
    }
   ],
   "source": [
    "supplement[:, 0, -1, 1]"
   ]
  },
  {
   "cell_type": "code",
   "execution_count": 48,
   "id": "730ebbb8-a2c2-40b5-8be2-be5d6be618ed",
   "metadata": {
    "tags": []
   },
   "outputs": [
    {
     "data": {
      "text/plain": [
       "58"
      ]
     },
     "execution_count": 48,
     "metadata": {},
     "output_type": "execute_result"
    }
   ],
   "source": [
    "(8 + 10 + 13 + 14 + 13) "
   ]
  },
  {
   "cell_type": "code",
   "execution_count": 31,
   "id": "914b7550-f13a-4044-8ce0-47d7cf45c362",
   "metadata": {
    "tags": []
   },
   "outputs": [
    {
     "data": {
      "text/plain": [
       "2"
      ]
     },
     "execution_count": 31,
     "metadata": {},
     "output_type": "execute_result"
    }
   ],
   "source": [
    "all_nb_cnt"
   ]
  },
  {
   "cell_type": "code",
   "execution_count": 27,
   "id": "c7e0fccf-9402-4b73-9e37-65d23f53e808",
   "metadata": {
    "tags": []
   },
   "outputs": [
    {
     "data": {
      "text/plain": [
       "(16, 20, 4)"
      ]
     },
     "execution_count": 27,
     "metadata": {},
     "output_type": "execute_result"
    }
   ],
   "source": [
    "traj_complete.shape"
   ]
  },
  {
   "cell_type": "code",
   "execution_count": 20,
   "id": "7c75f491-8e0e-496d-aaf6-8959891791b7",
   "metadata": {
    "tags": []
   },
   "outputs": [
    {
     "data": {
      "text/plain": [
       "array([[False, False, False, False, False, False, False, False],\n",
       "       [False, False, False, False, False, False, False, False],\n",
       "       [False, False, False, False, False, False, False, False],\n",
       "       [False, False, False, False, False, False, False, False],\n",
       "       [False, False, False, False, False, False, False, False],\n",
       "       [False, False, False, False, False, False, False, False],\n",
       "       [False, False, False, False, False, False, False, False],\n",
       "       [False, False, False, False, False, False, False, False],\n",
       "       [False, False, False, False, False, False, False, False],\n",
       "       [False, False, False, False, False, False, False, False],\n",
       "       [False, False, False, False, False, False, False, False],\n",
       "       [False, False, False, False, False, False, False, False],\n",
       "       [False, False, False, False, False, False, False, False],\n",
       "       [False, False, False, False, False, False, False, False],\n",
       "       [False, False, False, False, False, False, False, False],\n",
       "       [False, False, False, False, False, False, False, False],\n",
       "       [False, False, False, False, False, False, False, False],\n",
       "       [False, False, False, False, False, False, False, False],\n",
       "       [False, False, False, False, False, False, False, False],\n",
       "       [False, False, False, False, False, False, False, False]])"
      ]
     },
     "execution_count": 20,
     "metadata": {},
     "output_type": "execute_result"
    }
   ],
   "source": [
    "(cos_ped < 0.5) & (dis_ped < r_col)"
   ]
  },
  {
   "cell_type": "code",
   "execution_count": 19,
   "id": "a08701b3-4991-4451-a749-e295fca85728",
   "metadata": {
    "tags": []
   },
   "outputs": [
    {
     "data": {
      "text/plain": [
       "(20, 8)"
      ]
     },
     "execution_count": 19,
     "metadata": {},
     "output_type": "execute_result"
    }
   ],
   "source": [
    "cos_ped.shape"
   ]
  },
  {
   "cell_type": "code",
   "execution_count": 18,
   "id": "db3152aa-f92b-4b33-9cfe-27182a037c78",
   "metadata": {
    "tags": []
   },
   "outputs": [
    {
     "data": {
      "text/plain": [
       "(20, 8)"
      ]
     },
     "execution_count": 18,
     "metadata": {},
     "output_type": "execute_result"
    }
   ],
   "source": [
    "dis_ped.shape"
   ]
  },
  {
   "cell_type": "code",
   "execution_count": 10,
   "id": "c5305846-e870-4d82-9116-d6c6d60dfd26",
   "metadata": {
    "tags": []
   },
   "outputs": [
    {
     "data": {
      "text/plain": [
       "['empty']"
      ]
     },
     "execution_count": 10,
     "metadata": {},
     "output_type": "execute_result"
    }
   ],
   "source": [
    "traj_complete"
   ]
  },
  {
   "cell_type": "code",
   "execution_count": 7,
   "id": "e1f3712a-e1b2-4cd9-a842-39030be011f4",
   "metadata": {
    "tags": []
   },
   "outputs": [
    {
     "data": {
      "image/png": "[encoded data removed]",
      "text/plain": [
       "<Figure size 640x480 with 1 Axes>"
      ]
     },
     "metadata": {},
     "output_type": "display_data"
    }
   ],
   "source": [
    "import matplotlib.pyplot as plt\n",
    "\n",
    "def show_traj(traj, supp, all_num):\n",
    "    plt.plot(traj[:, 0], traj[:, 1], '.-', color='r')\n",
    "    plt.plot(traj[-1, 0], traj[-1, 1], 'o', color='r')\n",
    "    for n_id in range(all_num):\n",
    "        plt.plot(supp[:, n_id, 0], supp[:, n_id, 1], '.-', color='g')\n",
    "        plt.plot(supp[-1, n_id, 0], supp[-1, n_id, 1], 'o-', color='g')\n",
    "\n",
    "show_traj(traj_complete[0], supplement[0], 5)"
   ]
  }
 ],
 "metadata": {
  "kernelspec": {
   "display_name": "Python 3 (ipykernel)",
   "language": "python",
   "name": "python3"
  },
  "language_info": {
   "codemirror_mode": {
    "name": "ipython",
    "version": 3
   },
   "file_extension": ".py",
   "mimetype": "text/x-python",
   "name": "python",
   "nbconvert_exporter": "python",
   "pygments_lexer": "ipython3",
   "version": "3.9.12"
  }
 },
 "nbformat": 4,
 "nbformat_minor": 5
}
