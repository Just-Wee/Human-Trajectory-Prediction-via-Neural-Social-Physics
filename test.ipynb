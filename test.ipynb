{
 "cells": [
  {
   "cell_type": "code",
   "execution_count": 1,
   "id": "489fbde2-ea66-4b96-883f-8d134e6a93dd",
   "metadata": {
    "tags": []
   },
   "outputs": [],
   "source": [
    "import pickle"
   ]
  },
  {
   "cell_type": "code",
   "execution_count": 2,
   "id": "c9fe2c28-f3cd-45a8-84b2-cf11d1adc465",
   "metadata": {
    "tags": []
   },
   "outputs": [],
   "source": [
    "goal_path = '/home/liuhaijing/Human-Trajectory-Prediction-via-Neural-Social-Physics/data/SDD/goals_Ynet.pickle'\n",
    "with open(goal_path, 'rb') as fp:\n",
    "    goal_data = pickle.load(fp)"
   ]
  },
  {
   "cell_type": "code",
   "execution_count": 4,
   "id": "f81215f4-4e30-4728-94e0-ebc9a63679d7",
   "metadata": {
    "tags": []
   },
   "outputs": [
    {
     "data": {
      "text/plain": [
       "list"
      ]
     },
     "execution_count": 4,
     "metadata": {},
     "output_type": "execute_result"
    }
   ],
   "source": [
    "type(goal_data)"
   ]
  },
  {
   "cell_type": "code",
   "execution_count": 5,
   "id": "21326c59-8366-42ed-96db-f1e3e341ff70",
   "metadata": {
    "tags": []
   },
   "outputs": [
    {
     "data": {
      "text/plain": [
       "3"
      ]
     },
     "execution_count": 5,
     "metadata": {},
     "output_type": "execute_result"
    }
   ],
   "source": [
    "len(goal_data)"
   ]
  },
  {
   "cell_type": "code",
   "execution_count": 6,
   "id": "158438e9-1d6a-41e4-83ca-92064fb83eb6",
   "metadata": {
    "tags": []
   },
   "outputs": [
    {
     "data": {
      "text/plain": [
       "list"
      ]
     },
     "execution_count": 6,
     "metadata": {},
     "output_type": "execute_result"
    }
   ],
   "source": [
    "type(goal_data[0])"
   ]
  },
  {
   "cell_type": "code",
   "execution_count": 7,
   "id": "0abc1ba7-ab1f-4c58-80e2-7a573cce305e",
   "metadata": {
    "tags": []
   },
   "outputs": [
    {
     "data": {
      "text/plain": [
       "16"
      ]
     },
     "execution_count": 7,
     "metadata": {},
     "output_type": "execute_result"
    }
   ],
   "source": [
    "len(goal_data[0])"
   ]
  },
  {
   "cell_type": "code",
   "execution_count": 8,
   "id": "3b6cb6d0-7f83-4e97-82ef-717e2bb49ad3",
   "metadata": {
    "tags": []
   },
   "outputs": [
    {
     "data": {
      "text/plain": [
       "numpy.ndarray"
      ]
     },
     "execution_count": 8,
     "metadata": {},
     "output_type": "execute_result"
    }
   ],
   "source": [
    "type(goal_data[0][0])"
   ]
  },
  {
   "cell_type": "code",
   "execution_count": 9,
   "id": "6c3b6ac3-35ad-43e4-b2f5-48c2800145e9",
   "metadata": {
    "tags": []
   },
   "outputs": [
    {
     "data": {
      "text/plain": [
       "(258, 2)"
      ]
     },
     "execution_count": 9,
     "metadata": {},
     "output_type": "execute_result"
    }
   ],
   "source": [
    "goal_data[0][0].shape"
   ]
  },
  {
   "cell_type": "code",
   "execution_count": 21,
   "id": "c4ff758a-267e-4c2f-93f8-bf3d5178504d",
   "metadata": {
    "tags": []
   },
   "outputs": [
    {
     "data": {
      "text/plain": [
       "array([1066.2616 ,  535.92523], dtype=float32)"
      ]
     },
     "execution_count": 21,
     "metadata": {},
     "output_type": "execute_result"
    }
   ],
   "source": [
    "goal_data[0][0][0, :]"
   ]
  },
  {
   "cell_type": "code",
   "execution_count": 10,
   "id": "d12a2e8f-b681-474d-8737-6a5d47d2e684",
   "metadata": {
    "tags": []
   },
   "outputs": [
    {
     "name": "stdout",
     "output_type": "stream",
     "text": [
      "(258, 2)\n",
      "(197, 2)\n",
      "(116, 2)\n",
      "(280, 2)\n",
      "(342, 2)\n",
      "(316, 2)\n",
      "(10, 2)\n",
      "(12, 2)\n",
      "(47, 2)\n",
      "(8, 2)\n",
      "(232, 2)\n",
      "(245, 2)\n",
      "(9, 2)\n",
      "(20, 2)\n",
      "(24, 2)\n",
      "(7, 2)\n"
     ]
    }
   ],
   "source": [
    "for i in range(len(goal_data[0])):\n",
    "    print(goal_data[0][i].shape)"
   ]
  },
  {
   "cell_type": "code",
   "execution_count": 19,
   "id": "747ccd3b-6189-4954-94ba-f56dd13d421e",
   "metadata": {
    "tags": []
   },
   "outputs": [
    {
     "data": {
      "text/plain": [
       "array([[1113.25   ,  520.95807],\n",
       "       [1111.3911 ,  604.177  ],\n",
       "       [1146.816  ,  590.624  ],\n",
       "       [1186.8942 ,  390.09164],\n",
       "       [1160.9558 ,  358.19275],\n",
       "       [1042.7137 ,  507.2471 ],\n",
       "       [1027.2189 ,  560.14813],\n",
       "       [1127.4613 ,  637.7651 ],\n",
       "       [1066.2616 ,  535.92523],\n",
       "       [1141.5481 ,  533.01117],\n",
       "       [1084.7449 ,  556.7449 ],\n",
       "       [1144.2114 ,  416.76956],\n",
       "       [1204.8185 ,  338.5338 ],\n",
       "       [1104.6683 ,  525.47235],\n",
       "       [1057.0764 ,  582.59235],\n",
       "       [1138.5625 ,  479.92502],\n",
       "       [1078.5319 ,  618.27783],\n",
       "       [1089.947  ,  583.69415],\n",
       "       [1116.6724 ,  563.838  ],\n",
       "       [1088.3607 ,  486.9496 ]], dtype=float32)"
      ]
     },
     "execution_count": 19,
     "metadata": {},
     "output_type": "execute_result"
    }
   ],
   "source": [
    "goal_data[1][0][:, 0, :]"
   ]
  },
  {
   "cell_type": "code",
   "execution_count": 14,
   "id": "2c0e8a94-90c3-44ec-91b1-620ff5c444b6",
   "metadata": {
    "tags": []
   },
   "outputs": [
    {
     "name": "stdout",
     "output_type": "stream",
     "text": [
      "(20, 258, 2)\n",
      "(20, 197, 2)\n",
      "(20, 116, 2)\n",
      "(20, 280, 2)\n",
      "(20, 342, 2)\n",
      "(20, 316, 2)\n",
      "(20, 10, 2)\n",
      "(20, 12, 2)\n",
      "(20, 47, 2)\n",
      "(20, 8, 2)\n",
      "(20, 232, 2)\n",
      "(20, 245, 2)\n",
      "(20, 9, 2)\n",
      "(20, 20, 2)\n",
      "(20, 24, 2)\n",
      "(20, 7, 2)\n"
     ]
    }
   ],
   "source": [
    "for i in range(len(goal_data[1])):\n",
    "    print(goal_data[1][i].shape)"
   ]
  },
  {
   "cell_type": "code",
   "execution_count": 13,
   "id": "8e2ef84f-b53a-45f7-9325-6a61be97912c",
   "metadata": {
    "tags": []
   },
   "outputs": [
    {
     "ename": "AttributeError",
     "evalue": "'str' object has no attribute 'shape'",
     "output_type": "error",
     "traceback": [
      "\u001b[0;31m---------------------------------------------------------------------------\u001b[0m",
      "\u001b[0;31mAttributeError\u001b[0m                            Traceback (most recent call last)",
      "Cell \u001b[0;32mIn[13], line 2\u001b[0m\n\u001b[1;32m      1\u001b[0m \u001b[38;5;28;01mfor\u001b[39;00m i \u001b[38;5;129;01min\u001b[39;00m \u001b[38;5;28mrange\u001b[39m(\u001b[38;5;28mlen\u001b[39m(goal_data[\u001b[38;5;241m2\u001b[39m])):\n\u001b[0;32m----> 2\u001b[0m     \u001b[38;5;28mprint\u001b[39m(\u001b[43mgoal_data\u001b[49m\u001b[43m[\u001b[49m\u001b[38;5;241;43m2\u001b[39;49m\u001b[43m]\u001b[49m\u001b[43m[\u001b[49m\u001b[43mi\u001b[49m\u001b[43m]\u001b[49m\u001b[38;5;241;43m.\u001b[39;49m\u001b[43mshape\u001b[49m)\n",
      "\u001b[0;31mAttributeError\u001b[0m: 'str' object has no attribute 'shape'"
     ]
    }
   ],
   "source": [
    "for i in range(len(goal_data[2])):\n",
    "    print(goal_data[2][i].shape)"
   ]
  },
  {
   "cell_type": "code",
   "execution_count": 15,
   "id": "f0294ae6-e47f-4e49-9098-9f9242408760",
   "metadata": {
    "tags": []
   },
   "outputs": [
    {
     "data": {
      "text/plain": [
       "['coupavideo0.pickle',\n",
       " 'coupavideo1.pickle',\n",
       " 'gatesvideo2.pickle',\n",
       " 'hyangvideo0.pickle',\n",
       " 'hyangvideo1.pickle',\n",
       " 'hyangvideo3.pickle',\n",
       " 'hyangvideo8.pickle',\n",
       " 'littlevideo0.pickle',\n",
       " 'littlevideo1.pickle',\n",
       " 'littlevideo2.pickle',\n",
       " 'littlevideo3.pickle',\n",
       " 'nexusvideo6.pickle',\n",
       " 'quadvideo0.pickle',\n",
       " 'quadvideo1.pickle',\n",
       " 'quadvideo2.pickle',\n",
       " 'quadvideo3.pickle']"
      ]
     },
     "execution_count": 15,
     "metadata": {},
     "output_type": "execute_result"
    }
   ],
   "source": [
    "goal_data[2]"
   ]
  },
  {
   "cell_type": "code",
   "execution_count": 23,
   "id": "c7a1b9a7-b07d-42d7-ba70-1d6716811400",
   "metadata": {
    "tags": []
   },
   "outputs": [
    {
     "data": {
      "text/plain": [
       "16"
      ]
     },
     "execution_count": 23,
     "metadata": {},
     "output_type": "execute_result"
    }
   ],
   "source": [
    "len(goal_data[2])"
   ]
  },
  {
   "cell_type": "code",
   "execution_count": 24,
   "id": "0f190657-082c-4ec3-9641-54389ec69e7c",
   "metadata": {
    "tags": []
   },
   "outputs": [
    {
     "data": {
      "text/plain": [
       "16"
      ]
     },
     "execution_count": 24,
     "metadata": {},
     "output_type": "execute_result"
    }
   ],
   "source": [
    "len(goal_data[1])"
   ]
  }
 ],
 "metadata": {
  "kernelspec": {
   "display_name": "Python 3 (ipykernel)",
   "language": "python",
   "name": "python3"
  },
  "language_info": {
   "codemirror_mode": {
    "name": "ipython",
    "version": 3
   },
   "file_extension": ".py",
   "mimetype": "text/x-python",
   "name": "python",
   "nbconvert_exporter": "python",
   "pygments_lexer": "ipython3",
   "version": "3.9.12"
  }
 },
 "nbformat": 4,
 "nbformat_minor": 5
}
