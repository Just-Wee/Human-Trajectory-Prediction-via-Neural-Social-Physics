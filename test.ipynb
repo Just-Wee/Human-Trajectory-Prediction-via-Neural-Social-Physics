{
 "cells": [
  {
   "cell_type": "code",
   "execution_count": 1,
   "id": "5ba1eeba-8ab6-49fa-9634-99f8a73d1901",
   "metadata": {
    "tags": []
   },
   "outputs": [],
   "source": [
    "import pickle\n",
    "\n",
    "load_path = '/home/liuhaijing/Human-Trajectory-Prediction-via-Neural-Social-Physics/data/SDD/none_pickle_new/coupavideo2.pickle'\n",
    "with open(load_path, 'rb') as fp:\n",
    "    data = pickle.load(fp)"
   ]
  },
  {
   "cell_type": "code",
   "execution_count": 2,
   "id": "9cc7b556-b86e-4f5c-83fa-b7edcacb7a23",
   "metadata": {
    "tags": []
   },
   "outputs": [],
   "source": [
    "traj_complete, supplement, first_part = data[0], data[1], data[2]"
   ]
  },
  {
   "cell_type": "code",
   "execution_count": 3,
   "id": "668e0fbd-9d12-4c9d-a6cf-3b0b894efcc7",
   "metadata": {
    "tags": []
   },
   "outputs": [
    {
     "data": {
      "text/plain": [
       "(168, 20, 4)"
      ]
     },
     "execution_count": 3,
     "metadata": {},
     "output_type": "execute_result"
    }
   ],
   "source": [
    "traj_complete.shape"
   ]
  },
  {
   "cell_type": "code",
   "execution_count": 5,
   "id": "271e6d36-1cc1-4024-bf96-5ebbebf80466",
   "metadata": {},
   "outputs": [
    {
     "data": {
      "text/plain": [
       "(168, 20, 121, 5)"
      ]
     },
     "execution_count": 5,
     "metadata": {},
     "output_type": "execute_result"
    }
   ],
   "source": [
    "supplement.shape"
   ]
  },
  {
   "cell_type": "code",
   "execution_count": 6,
   "id": "9a260a60-9c1d-4ae6-923a-25d5236fdfb4",
   "metadata": {
    "tags": []
   },
   "outputs": [
    {
     "data": {
      "text/plain": [
       "array([1.0515e+03, 2.4900e+02, 0.0000e+00, 0.0000e+00, 1.0000e+00])"
      ]
     },
     "execution_count": 6,
     "metadata": {},
     "output_type": "execute_result"
    }
   ],
   "source": [
    "supplement[0, 0, 0, :]"
   ]
  },
  {
   "cell_type": "code",
   "execution_count": 7,
   "id": "90f22cd4-44f8-45c3-aaa3-3151a2bcdd24",
   "metadata": {
    "tags": []
   },
   "outputs": [
    {
     "data": {
      "text/plain": [
       "[1]"
      ]
     },
     "execution_count": 7,
     "metadata": {},
     "output_type": "execute_result"
    }
   ],
   "source": [
    "first_part[0]"
   ]
  },
  {
   "cell_type": "code",
   "execution_count": 11,
   "id": "e46ac852-3a8f-41d2-8916-26507c48f892",
   "metadata": {
    "tags": []
   },
   "outputs": [
    {
     "data": {
      "text/plain": [
       "True"
      ]
     },
     "execution_count": 11,
     "metadata": {},
     "output_type": "execute_result"
    }
   ],
   "source": [
    "import numpy as np\n",
    "\n",
    "np.array_equal(traj_complete[1, :, :], supplement[0, :, 0, :4])"
   ]
  },
  {
   "cell_type": "code",
   "execution_count": 12,
   "id": "25c5c363-f5b4-4f89-8b98-d2b157106de7",
   "metadata": {
    "tags": []
   },
   "outputs": [
    {
     "data": {
      "text/plain": [
       "168"
      ]
     },
     "execution_count": 12,
     "metadata": {},
     "output_type": "execute_result"
    }
   ],
   "source": [
    "len(first_part)"
   ]
  },
  {
   "cell_type": "code",
   "execution_count": 13,
   "id": "ae1fe4fa-bfbe-441b-88fb-a45ac22422dd",
   "metadata": {
    "tags": []
   },
   "outputs": [],
   "source": [
    "t_dic = {1: set([1, 2])}"
   ]
  },
  {
   "cell_type": "code",
   "execution_count": 14,
   "id": "eec28aa2-2120-40ed-9a0c-37f584e07a4e",
   "metadata": {
    "tags": []
   },
   "outputs": [
    {
     "data": {
      "text/plain": [
       "True"
      ]
     },
     "execution_count": 14,
     "metadata": {},
     "output_type": "execute_result"
    }
   ],
   "source": [
    "1 in t_dic"
   ]
  },
  {
   "cell_type": "code",
   "execution_count": 16,
   "id": "38065625-2c69-40e8-9e3b-b7522bac25d0",
   "metadata": {
    "tags": []
   },
   "outputs": [
    {
     "name": "stdout",
     "output_type": "stream",
     "text": [
      "34\n"
     ]
    }
   ],
   "source": [
    "def get_same_time_ped_idx(first_part):\n",
    "    \"\"\"获取处于同一时间段的全程出现的行人在 traj_complete 中的索引\"\"\"\n",
    "    ped_sets = []\n",
    "    pid_to_set = {}\n",
    "    for p_id in range(len(first_part)):\n",
    "        if p_id not in pid_to_set:\n",
    "            cur_time_set = set()\n",
    "            cur_time_set.add(p_id)\n",
    "            cur_time_set.update(first_part[p_id])\n",
    "            for t_pid in cur_time_set:\n",
    "                pid_to_set[t_pid] = cur_time_set\n",
    "            ped_sets.append(cur_time_set)\n",
    "    return pid_to_set, ped_sets\n",
    "\n",
    "pid_to_set, ped_set = get_same_time_ped_idx(first_part)\n",
    "print(len(ped_set))"
   ]
  },
  {
   "cell_type": "code",
   "execution_count": 20,
   "id": "29e20176-ee62-41d7-9fb5-ba29b2aa03da",
   "metadata": {
    "tags": []
   },
   "outputs": [
    {
     "data": {
      "text/plain": [
       "{8, 9, 10, 11, 12, 13}"
      ]
     },
     "execution_count": 20,
     "metadata": {},
     "output_type": "execute_result"
    }
   ],
   "source": [
    "ped_set[3]"
   ]
  }
 ],
 "metadata": {
  "kernelspec": {
   "display_name": "Python 3 (ipykernel)",
   "language": "python",
   "name": "python3"
  },
  "language_info": {
   "codemirror_mode": {
    "name": "ipython",
    "version": 3
   },
   "file_extension": ".py",
   "mimetype": "text/x-python",
   "name": "python",
   "nbconvert_exporter": "python",
   "pygments_lexer": "ipython3",
   "version": "3.9.12"
  }
 },
 "nbformat": 4,
 "nbformat_minor": 5
}
